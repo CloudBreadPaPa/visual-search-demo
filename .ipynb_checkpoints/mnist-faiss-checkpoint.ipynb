{
 "cells": [
  {
   "cell_type": "markdown",
   "metadata": {},
   "source": [
    "# FAISS on MNIST Image Dataset\n",
    "\n",
    "In this notebook, we run a similarity search on the MNIST image dataset."
   ]
  },
  {
   "cell_type": "code",
   "execution_count": 11,
   "metadata": {},
   "outputs": [],
   "source": [
    "import numpy as np\n",
    "import faiss\n",
    "import matplotlib.pyplot as plt\n",
    "\n",
    "from sklearn.datasets import load_digits"
   ]
  },
  {
   "cell_type": "markdown",
   "metadata": {},
   "source": [
    "Load in the digits dataset (from scikit learn datasets)."
   ]
  },
  {
   "cell_type": "code",
   "execution_count": 2,
   "metadata": {},
   "outputs": [],
   "source": [
    "digits = load_digits()\n",
    "print(\"Image Data Shape\" , digits.data.shape)"
   ]
  },
  {
   "cell_type": "markdown",
   "metadata": {},
   "source": [
    "Define a function to draw the top 5 images from the similarity search result of FAISS."
   ]
  },
  {
   "cell_type": "code",
   "execution_count": 21,
   "metadata": {},
   "outputs": [],
   "source": [
    "def draw_mnist(arr):\n",
    "    plt.figure(figsize=(len(arr)*4,4))\n",
    "    for index, (image) in enumerate(zip(arr)):\n",
    "        plt.subplot(1, len(arr), index + 1)\n",
    "        plt.imshow(np.reshape(image, (8,8)), cmap=plt.cm.gray)"
   ]
  },
  {
   "cell_type": "markdown",
   "metadata": {},
   "source": [
    "Prepare and index the MNIST dataset."
   ]
  },
  {
   "cell_type": "code",
   "execution_count": 5,
   "metadata": {},
   "outputs": [
    {
     "name": "stdout",
     "output_type": "stream",
     "text": [
      "xb.shape :  (1797, 64) \n",
      "xq.shape :  (1, 64)\n"
     ]
    }
   ],
   "source": [
    "# mnist indexing\n",
    "d = 64                           # dimension\n",
    "nb = 100                      # database size\n",
    "nq = 10                     # nb of queries\n",
    "\n",
    "xb = digits.data.astype('float32') \n",
    "xq = digits.data[0:1].astype('float32') # Use the first image as the query vector\n",
    "\n",
    "print('xb.shape : ', xb.shape, '\\nxq.shape : ', xq.shape)"
   ]
  },
  {
   "cell_type": "markdown",
   "metadata": {},
   "source": [
    "Build index and add vectors to the index."
   ]
  },
  {
   "cell_type": "code",
   "execution_count": 6,
   "metadata": {},
   "outputs": [
    {
     "name": "stdout",
     "output_type": "stream",
     "text": [
      "index.is_trained :  True\n",
      "index.ntotal :  1797\n"
     ]
    }
   ],
   "source": [
    "index = faiss.IndexFlatL2(d)   # build the index\n",
    "print('index.is_trained : ', index.is_trained)\n",
    "\n",
    "index.add(xb)                  # add vectors to the index\n",
    "print('index.ntotal : ', index.ntotal)"
   ]
  },
  {
   "cell_type": "markdown",
   "metadata": {},
   "source": [
    "Perform similarity search and view the results."
   ]
  },
  {
   "cell_type": "code",
   "execution_count": 18,
   "metadata": {},
   "outputs": [
    {
     "name": "stdout",
     "output_type": "stream",
     "text": [
      "I[:5] :  [[   0  877 1365 1541 1167 1029  464  957 1697  855]]\n",
      "D[:5] :  [[  0. 120. 164. 172. 176. 178. 181. 238. 245. 252.]]\n"
     ]
    }
   ],
   "source": [
    "k = 10                          # we want to see top k nearest neighbors (the first result will always be the query vector)\n",
    "D, I = index.search(xq, k)     # actual search\n",
    "print('I[:5] : ', I[:k])                   # neighbors of the 5 first queries\n",
    "print('D[:5] : ', D[:k])                   # distances of the 5 first queries"
   ]
  },
  {
   "cell_type": "code",
   "execution_count": 19,
   "metadata": {},
   "outputs": [
    {
     "name": "stdout",
     "output_type": "stream",
     "text": [
      "index :  0 \n",
      "distance :  0.0 \n",
      "arr :  [ 0.  0.  5. 13.  9.  1.  0.  0.  0.  0. 13. 15. 10. 15.  5.  0.  0.  3.\n",
      " 15.  2.  0. 11.  8.  0.  0.  4. 12.  0.  0.  8.  8.  0.  0.  5.  8.  0.\n",
      "  0.  9.  8.  0.  0.  4. 11.  0.  1. 12.  7.  0.  0.  2. 14.  5. 10. 12.\n",
      "  0.  0.  0.  0.  6. 13. 10.  0.  0.  0.]\n",
      "index :  877 \n",
      "distance :  120.0 \n",
      "arr :  [ 0.  0.  7. 13.  8.  4.  0.  0.  0.  1. 15. 11.  9. 15.  2.  0.  0.  4.\n",
      " 16.  6.  0.  8.  7.  0.  0.  4. 10.  0.  0.  7.  8.  0.  0.  4. 10.  0.\n",
      "  0.  8.  8.  0.  0.  5. 12.  0.  0. 12.  5.  0.  0.  3. 15.  5.  9. 14.\n",
      "  2.  0.  0.  0.  8. 14. 12.  3.  0.  0.]\n",
      "index :  1365 \n",
      "distance :  164.0 \n",
      "arr :  [ 0.  0.  5. 13. 11.  1.  0.  0.  0.  3. 16. 11.  8. 12.  0.  0.  0.  5.\n",
      " 16.  0.  0. 13.  3.  0.  0.  5. 13.  0.  0.  6.  7.  0.  0.  7. 10.  0.\n",
      "  0.  8.  7.  0.  0.  4. 13.  0.  1. 14.  5.  0.  0.  1. 15.  5. 12. 10.\n",
      "  0.  0.  0.  0.  7. 16. 10.  1.  0.  0.]\n",
      "index :  1541 \n",
      "distance :  172.0 \n",
      "arr :  [ 0.  0.  5. 12.  9.  1.  0.  0.  0.  0. 14. 14. 13. 13.  0.  0.  0.  3.\n",
      " 12.  1.  1. 13.  4.  0.  0.  7.  8.  0.  0.  6.  8.  0.  0.  8.  8.  0.\n",
      "  0.  5.  8.  0.  0.  5. 10.  0.  0. 11.  4.  0.  0.  1. 15.  9. 11. 13.\n",
      "  0.  0.  0.  0.  7. 15. 12.  2.  0.  0.]\n",
      "index :  1167 \n",
      "distance :  176.0 \n",
      "arr :  [ 0.  0.  3. 14.  9.  3.  0.  0.  0.  0. 11. 13.  8. 14.  2.  0.  0.  2.\n",
      " 16.  3.  0.  9.  4.  0.  0.  5. 12.  0.  0.  4.  8.  0.  0.  8.  8.  0.\n",
      "  0.  7.  8.  0.  0.  5. 11.  0.  2. 15.  3.  0.  0.  0. 14.  5. 13.  7.\n",
      "  0.  0.  0.  0.  5. 14.  5.  0.  0.  0.]\n",
      "index :  1029 \n",
      "distance :  178.0 \n",
      "arr :  [ 0.  0.  3. 12. 12.  2.  0.  0.  0.  0. 11. 10.  7. 14.  2.  0.  0.  0.\n",
      " 11.  1.  0.  8.  4.  0.  0.  2. 14.  2.  0.  5.  7.  0.  0.  8.  9.  0.\n",
      "  0.  6.  8.  0.  0.  3. 13.  0.  0. 12.  7.  0.  0.  0. 15.  6. 11. 12.\n",
      "  0.  0.  0.  0.  4. 15. 11.  1.  0.  0.]\n",
      "index :  464 \n",
      "distance :  181.0 \n",
      "arr :  [ 0.  0.  4. 15. 12.  1.  0.  0.  0.  0. 12. 11. 13. 13.  1.  0.  0.  3.\n",
      " 12.  0.  0. 14.  6.  0.  0.  8. 12.  0.  0. 11.  8.  0.  0.  8. 12.  0.\n",
      "  0.  8.  8.  0.  0.  6. 13.  0.  0. 11.  7.  0.  0.  4. 16.  7. 10. 15.\n",
      "  2.  0.  0.  0.  7. 13. 12.  2.  0.  0.]\n",
      "index :  957 \n",
      "distance :  238.0 \n",
      "arr :  [ 0.  0.  3. 12.  9.  0.  0.  0.  0.  0. 12. 12. 11. 13.  0.  0.  0.  2.\n",
      " 15.  2.  0. 12.  5.  0.  0.  4.  8.  0.  0.  6.  8.  0.  0.  8.  7.  0.\n",
      "  0.  4.  8.  0.  0.  7.  7.  0.  0.  9.  7.  0.  0.  3. 13.  4.  7. 16.\n",
      "  2.  0.  0.  0.  6. 16. 15.  5.  0.  0.]\n",
      "index :  1697 \n",
      "distance :  245.0 \n",
      "arr :  [ 0.  0.  7. 12. 13.  2.  0.  0.  0.  0. 14. 13.  8. 13.  0.  0.  0.  3.\n",
      " 16.  1.  0. 11.  2.  0.  0.  4. 14.  0.  0.  5.  8.  0.  0.  5.  8.  0.\n",
      "  0.  5.  8.  0.  0.  4. 16.  0.  2. 14.  7.  0.  0.  2. 16. 10. 14. 15.\n",
      "  1.  0.  0.  0.  6. 14. 14.  4.  0.  0.]\n",
      "index :  855 \n",
      "distance :  252.0 \n",
      "arr :  [ 0.  0.  9.  9.  4.  0.  0.  0.  0.  0. 15. 15. 14. 12.  0.  0.  0.  3.\n",
      " 10.  1.  0. 12.  5.  0.  0.  5.  8.  0.  0.  8.  6.  0.  0.  8.  8.  0.\n",
      "  0.  8.  8.  0.  0.  5.  8.  0.  0. 10.  6.  0.  0.  4. 13.  4.  6. 13.\n",
      "  0.  0.  0.  0.  6. 16. 14.  3.  0.  0.]\n",
      "arr.shape :  (10, 64)\n"
     ]
    }
   ],
   "source": [
    "arr = np.empty([0,64])\n",
    "i = 0\n",
    "for i in range(k):\n",
    "    print('index : ', I[0,i], '\\ndistance : ', D[0,i], '\\narr : ', xb[I[0,i]])\n",
    "    arr = np.vstack((arr, xb[I[0,i]]))\n",
    "print('arr.shape : ', arr.shape)"
   ]
  },
  {
   "cell_type": "markdown",
   "metadata": {},
   "source": [
    "View the results visually."
   ]
  },
  {
   "cell_type": "code",
   "execution_count": 22,
   "metadata": {},
   "outputs": [
    {
     "data": {
      "image/png": "[encoded data removed]",
      "text/plain": [
       "<Figure size 2880x288 with 10 Axes>"
      ]
     },
     "metadata": {
      "needs_background": "light"
     },
     "output_type": "display_data"
    }
   ],
   "source": [
    "draw_mnist(arr)"
   ]
  },
  {
   "cell_type": "code",
   "execution_count": null,
   "metadata": {},
   "outputs": [],
   "source": []
  }
 ],
 "metadata": {
  "kernelspec": {
   "display_name": "Python 3",
   "language": "python",
   "name": "python3"
  },
  "language_info": {
   "codemirror_mode": {
    "name": "ipython",
    "version": 3
   },
   "file_extension": ".py",
   "mimetype": "text/x-python",
   "name": "python",
   "nbconvert_exporter": "python",
   "pygments_lexer": "ipython3",
   "version": "3.7.3"
  }
 },
 "nbformat": 4,
 "nbformat_minor": 2
}
