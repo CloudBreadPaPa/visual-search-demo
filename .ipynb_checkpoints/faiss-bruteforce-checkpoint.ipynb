{
 "cells": [
  {
   "cell_type": "code",
   "execution_count": 1,
   "metadata": {},
   "outputs": [],
   "source": [
    "import numpy as np\n",
    "import faiss"
   ]
  },
  {
   "cell_type": "markdown",
   "metadata": {},
   "source": [
    "KNN using L2 distance (Euclidean) and dot product."
   ]
  },
  {
   "cell_type": "code",
   "execution_count": 2,
   "metadata": {},
   "outputs": [],
   "source": [
    "def search_knn(xq, xb, k, distance_type=faiss.METRIC_L2): \n",
    "    \"\"\" wrapper around the faiss knn functions without index \"\"\"\n",
    "    nq, d = xq.shape\n",
    "    nb, d2 = xb.shape\n",
    "    assert d == d2\n",
    "    \n",
    "    I = np.empty((nq, k), dtype='int64')\n",
    "    D = np.empty((nq, k), dtype='float32')\n",
    "    \n",
    "    if distance_type == faiss.METRIC_L2: \n",
    "        heaps = faiss.float_maxheap_array_t()\n",
    "        heaps.k = k\n",
    "        heaps.nh = nq\n",
    "        heaps.val = faiss.swig_ptr(D)\n",
    "        heaps.ids = faiss.swig_ptr(I)\n",
    "        faiss.knn_L2sqr(\n",
    "            faiss.swig_ptr(xq), faiss.swig_ptr(xb), \n",
    "            d, nq, nb, heaps\n",
    "        )\n",
    "    elif distance_type == faiss.METRIC_INNER_PRODUCT: \n",
    "        heaps = faiss.float_minheap_array_t()\n",
    "        heaps.k = k\n",
    "        heaps.nh = nq\n",
    "        heaps.val = faiss.swig_ptr(D)\n",
    "        heaps.ids = faiss.swig_ptr(I)\n",
    "        faiss.knn_inner_product(\n",
    "            faiss.swig_ptr(xq), faiss.swig_ptr(xb), \n",
    "            d, nq, nb, heaps\n",
    "        )\n",
    "    return D, I "
   ]
  },
  {
   "cell_type": "markdown",
   "metadata": {},
   "source": [
    "IndexFlatL2 or IndexFlatIP are both brute force indexing. As shown by the code below which does KNN manually and asserts that both results are the same. "
   ]
  },
  {
   "cell_type": "code",
   "execution_count": 12,
   "metadata": {},
   "outputs": [],
   "source": [
    "# test for function above\n",
    "        \n",
    "xb = np.random.rand(200, 32).astype('float32')\n",
    "xq = np.random.rand(100, 32).astype('float32')\n",
    "\n",
    "# IndexFlatL2 indexing is brute force\n",
    "index = faiss.IndexFlatL2(32)\n",
    "index.add(xb)\n",
    "Dref, Iref = index.search(xq, 10)\n",
    "\n",
    "Dnew, Inew = search_knn(xq, xb, 10)\n",
    "\n",
    "assert np.all(Inew == Iref)\n",
    "assert np.allclose(Dref, Dnew)\n"
   ]
  },
  {
   "cell_type": "code",
   "execution_count": 13,
   "metadata": {},
   "outputs": [
    {
     "data": {
      "text/plain": [
       "array([[ 54,   3,  57,  83, 195,  38,  76, 173,  13, 185],\n",
       "       [ 54, 190,  23,   8, 158, 100, 114, 165, 107,  69],\n",
       "       [ 73, 159,  47, 120, 147, 192, 100, 146, 111, 179],\n",
       "       [108,  83, 126, 168, 138,  33, 160,  26, 173,   3],\n",
       "       [197,  93, 105,  81, 121,  17,   2,  12, 193, 177]])"
      ]
     },
     "execution_count": 13,
     "metadata": {},
     "output_type": "execute_result"
    }
   ],
   "source": [
    "Inew[:5]"
   ]
  },
  {
   "cell_type": "code",
   "execution_count": 14,
   "metadata": {},
   "outputs": [],
   "source": [
    "# IndexFlatIP indexing is brute force, just a different distance metric\n",
    "index = faiss.IndexFlatIP(32)\n",
    "index.add(xb)\n",
    "Dref, Iref = index.search(xq, 10)\n",
    "\n",
    "Dnew, Inew = search_knn(xq, xb, 10, distance_type=faiss.METRIC_INNER_PRODUCT)\n",
    "\n",
    "assert np.all(Inew == Iref)\n",
    "assert np.allclose(Dref, Dnew)"
   ]
  },
  {
   "cell_type": "code",
   "execution_count": 15,
   "metadata": {},
   "outputs": [
    {
     "data": {
      "text/plain": [
       "array([[ 43, 173,   3,  17,  69,   4, 195,  83, 142,  54],\n",
       "       [ 69,  43, 161,   6, 189,  65, 135,  54,   8,   1],\n",
       "       [141,   4,  43, 128,  41,  98, 173,  65,   7,  73],\n",
       "       [ 43, 173, 108, 178,  17, 128, 168,  65,  83,   3],\n",
       "       [ 43, 142,  65, 121,  17, 197, 173,  69, 128,  14]])"
      ]
     },
     "execution_count": 15,
     "metadata": {},
     "output_type": "execute_result"
    }
   ],
   "source": [
    "Inew[:5]"
   ]
  },
  {
   "cell_type": "code",
   "execution_count": null,
   "metadata": {},
   "outputs": [],
   "source": []
  }
 ],
 "metadata": {
  "kernelspec": {
   "display_name": "Python 3",
   "language": "python",
   "name": "python3"
  },
  "language_info": {
   "codemirror_mode": {
    "name": "ipython",
    "version": 3
   },
   "file_extension": ".py",
   "mimetype": "text/x-python",
   "name": "python",
   "nbconvert_exporter": "python",
   "pygments_lexer": "ipython3",
   "version": "3.7.3"
  }
 },
 "nbformat": 4,
 "nbformat_minor": 2
}
