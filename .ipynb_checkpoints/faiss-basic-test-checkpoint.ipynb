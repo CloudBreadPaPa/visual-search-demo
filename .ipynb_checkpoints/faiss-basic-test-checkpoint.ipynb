{
 "cells": [
  {
   "cell_type": "markdown",
   "metadata": {},
   "source": [
    "# FAISS Basic Test\n",
    "\n",
    "This test is using randomly generated image vector data. "
   ]
  },
  {
   "cell_type": "code",
   "execution_count": 5,
   "metadata": {},
   "outputs": [],
   "source": [
    "import numpy as np\n",
    "import faiss"
   ]
  },
  {
   "cell_type": "markdown",
   "metadata": {},
   "source": [
    "Generate test data and see what it looks like."
   ]
  },
  {
   "cell_type": "code",
   "execution_count": 3,
   "metadata": {},
   "outputs": [],
   "source": [
    "# generate test np\n",
    "d = 2                           # dimension\n",
    "nb = 100                      # database size\n",
    "nq = 1                     # nb of queries\n",
    "np.random.seed(1234)             # make reproducible\n",
    "\n",
    "xb = np.random.random((nb, d)).astype('float32')\n",
    "xb[:, 0] += np.arange(nb) / 1000.\n",
    "xq = np.random.random((nq, d)).astype('float32')\n",
    "xq[:, 0] += np.arange(nq) / 1000."
   ]
  },
  {
   "cell_type": "code",
   "execution_count": 6,
   "metadata": {},
   "outputs": [
    {
     "name": "stdout",
     "output_type": "stream",
     "text": [
      "xb.shape (100, 2)\n",
      "xb[0] [0.19151945 0.62210876]\n",
      "xb[1] [0.43872774 0.7853586 ]\n",
      "xb[99] [0.90137416 0.94555324]\n"
     ]
    }
   ],
   "source": [
    "# check np shape\n",
    "print('xb.shape', xb.shape)\n",
    "print('xb[0]', xb[0])\n",
    "print('xb[1]', xb[1])\n",
    "print('xb[99]', xb[99])"
   ]
  },
  {
   "cell_type": "markdown",
   "metadata": {},
   "source": [
    "Build the index, d being the number of dimensions. Add the vectors to the index. "
   ]
  },
  {
   "cell_type": "code",
   "execution_count": 7,
   "metadata": {},
   "outputs": [
    {
     "name": "stdout",
     "output_type": "stream",
     "text": [
      "index.is_trained :  True\n",
      "index.ntotal :  100\n"
     ]
    }
   ],
   "source": [
    "index = faiss.IndexFlatL2(d)   # build the index\n",
    "print('index.is_trained : ', index.is_trained)\n",
    "\n",
    "index.add(xb)                  # add vectors to the index\n",
    "print('index.ntotal : ', index.ntotal)"
   ]
  },
  {
   "cell_type": "code",
   "execution_count": 8,
   "metadata": {},
   "outputs": [
    {
     "name": "stdout",
     "output_type": "stream",
     "text": [
      "test check - xb[:5] : \n",
      " [[0.19151945 0.62210876]\n",
      " [0.43872774 0.7853586 ]\n",
      " [0.7819758  0.2725926 ]\n",
      " [0.27946424 0.8018722 ]\n",
      " [0.96213937 0.87593263]]\n"
     ]
    }
   ],
   "source": [
    "# check xb first 5\n",
    "print('test check - xb[:5] : \\n', xb[:5])"
   ]
  },
  {
   "cell_type": "code",
   "execution_count": 9,
   "metadata": {},
   "outputs": [
    {
     "name": "stdout",
     "output_type": "stream",
     "text": [
      "I :  [[ 0 45 25 49]\n",
      " [ 1 88 13 93]\n",
      " [ 2 42 73 16]\n",
      " [ 3 96 87 37]\n",
      " [ 4 81 29 99]]\n",
      "D :  [[5.9604645e-08 2.9202700e-03 3.2063723e-03 9.5323324e-03]\n",
      " [0.0000000e+00 4.8565865e-04 8.2504749e-04 3.2918453e-03]\n",
      " [0.0000000e+00 1.6224265e-02 1.7319322e-02 1.7904520e-02]\n",
      " [0.0000000e+00 4.3412447e-03 5.0160885e-03 9.7976923e-03]\n",
      " [0.0000000e+00 5.2456856e-03 7.7092648e-03 8.5396767e-03]]\n"
     ]
    }
   ],
   "source": [
    "k = 4                          # we want to see 4 nearest neighbors\n",
    "D, I = index.search(xb[:5], k) # sanity check\n",
    "print('I : ', I)\n",
    "print('D : ', D)"
   ]
  },
  {
   "cell_type": "code",
   "execution_count": 10,
   "metadata": {},
   "outputs": [
    {
     "name": "stdout",
     "output_type": "stream",
     "text": [
      "I[:5] :  [[ 4 81 29 84]]\n",
      "I[-5:] :  [[ 4 81 29 84]]\n"
     ]
    }
   ],
   "source": [
    "D, I = index.search(xq, k)     # actual search\n",
    "print('I[:5] : ', I[:5])                   # neighbors of the 5 first queries\n",
    "print('I[-5:] : ', I[-5:])                  # neighbors of the 5 last queries"
   ]
  },
  {
   "cell_type": "code",
   "execution_count": null,
   "metadata": {},
   "outputs": [],
   "source": []
  }
 ],
 "metadata": {
  "kernelspec": {
   "display_name": "Python 3",
   "language": "python",
   "name": "python3"
  },
  "language_info": {
   "codemirror_mode": {
    "name": "ipython",
    "version": 3
   },
   "file_extension": ".py",
   "mimetype": "text/x-python",
   "name": "python",
   "nbconvert_exporter": "python",
   "pygments_lexer": "ipython3",
   "version": "3.7.3"
  }
 },
 "nbformat": 4,
 "nbformat_minor": 2
}
