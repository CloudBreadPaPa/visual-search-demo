{
 "cells": [
  {
   "cell_type": "markdown",
   "metadata": {},
   "source": [
    "# Download Data from Blob\n",
    "\n",
    "This notebook downloads the data from our blob storage in Azure. "
   ]
  },
  {
   "cell_type": "code",
   "execution_count": 18,
   "metadata": {},
   "outputs": [],
   "source": [
    "from azure.storage.blob import BlockBlobService\n",
    "import os"
   ]
  },
  {
   "cell_type": "code",
   "execution_count": 11,
   "metadata": {},
   "outputs": [],
   "source": [
    "account_name='<account-name-here>'\n",
    "account_key='<account-key-here>'\n",
    "container_name='<container-name-here>'\n",
    "block_blob_service = BlockBlobService(account_name, account_key)"
   ]
  },
  {
   "cell_type": "markdown",
   "metadata": {},
   "source": [
    "Copy blobs from Azure to local"
   ]
  },
  {
   "cell_type": "code",
   "execution_count": 21,
   "metadata": {
    "scrolled": true
   },
   "outputs": [
    {
     "name": "stdout",
     "output_type": "stream",
     "text": [
      "\n",
      "List blobs in the container\n",
      "\t Blob name: 500k_data/imdb_crop1.zip\n",
      "\t Blob name: 500k_data/imdb_meta_embedding_json1.zip\n",
      "\t Blob name: 500k_data/wiki_crop1.zip\n",
      "\t Blob name: 500k_data/wiki_meta_embedding_json1.zip\n"
     ]
    }
   ],
   "source": [
    "# List the blobs in the container\n",
    "print(\"\\nDownload blobs in the container\")\n",
    "\n",
    "blob_data_folder = '500k_data'\n",
    "local_data_path = 'data/' + blob_data_folder\n",
    "\n",
    "generator = block_blob_service.list_blobs(container_name, prefix='500k_data')\n",
    "\n",
    "if not os.path.exists(local_data_path):\n",
    "    os.makedirs(local_data_path)\n",
    "\n",
    "for blob in generator:\n",
    "    print(\"\\t Blob name: \" + blob.name)\n",
    "    block_blob_service.get_blob_to_path(container_name, blob.name, 'data/' + blob.name)"
   ]
  },
  {
   "cell_type": "code",
   "execution_count": null,
   "metadata": {},
   "outputs": [],
   "source": []
  }
 ],
 "metadata": {
  "kernelspec": {
   "display_name": "Python 3",
   "language": "python",
   "name": "python3"
  },
  "language_info": {
   "codemirror_mode": {
    "name": "ipython",
    "version": 3
   },
   "file_extension": ".py",
   "mimetype": "text/x-python",
   "name": "python",
   "nbconvert_exporter": "python",
   "pygments_lexer": "ipython3",
   "version": "3.7.3"
  }
 },
 "nbformat": 4,
 "nbformat_minor": 2
}
