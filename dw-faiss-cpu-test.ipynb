{
 "cells": [
  {
   "cell_type": "code",
   "execution_count": 1,
   "metadata": {},
   "outputs": [],
   "source": [
    "import numpy as np\n",
    "from PIL import Image\n",
    "import csv\n",
    "import os\n",
    "from os import listdir\n",
    "from os.path import isfile, join, splitext\n",
    "import shutil\n",
    "import random\n",
    "import matplotlib.pyplot as plt\n",
    "from matplotlib.pyplot import imshow\n",
    "\n",
    "import faiss\n",
    "\n",
    "%matplotlib inline"
   ]
  },
  {
   "cell_type": "code",
   "execution_count": 3,
   "metadata": {},
   "outputs": [],
   "source": [
    "# generate test np\n",
    "d = 2                           # dimension\n",
    "nb = 10                      # database size\n",
    "nq = 1                     # nb of queries\n",
    "np.random.seed(1234)             # make reproducible"
   ]
  },
  {
   "cell_type": "code",
   "execution_count": 4,
   "metadata": {},
   "outputs": [],
   "source": [
    "xb = np.random.random((nb, d)).astype('float32')"
   ]
  },
  {
   "cell_type": "code",
   "execution_count": 5,
   "metadata": {},
   "outputs": [],
   "source": [
    "xq = np.random.random((nq, d)).astype('float32')"
   ]
  },
  {
   "cell_type": "code",
   "execution_count": 6,
   "metadata": {},
   "outputs": [
    {
     "name": "stdout",
     "output_type": "stream",
     "text": [
      "xb.shape (10, 2)\n",
      "xq.shape (1, 2)\n",
      "xb[0] [0.19151945 0.62210876]\n",
      "xb[1] [0.43772775 0.7853586 ]\n"
     ]
    }
   ],
   "source": [
    "# check np shape\n",
    "print('xb.shape', xb.shape)\n",
    "print('xq.shape', xq.shape)\n",
    "print('xb[0]', xb[0])\n",
    "print('xb[1]', xb[1])\n",
    "#print('xb[99]', xb[99])"
   ]
  },
  {
   "cell_type": "code",
   "execution_count": null,
   "metadata": {},
   "outputs": [],
   "source": []
  },
  {
   "cell_type": "markdown",
   "metadata": {},
   "source": [
    "# 4096d - 1M dataset test on CPU machine"
   ]
  },
  {
   "cell_type": "code",
   "execution_count": 3,
   "metadata": {},
   "outputs": [],
   "source": [
    "# generate test np\n",
    "d = 4096                           # dimension\n",
    "nb = 1000000                      # database size\n",
    "nq = 1                     # nb of queries\n",
    "np.random.seed(1234)             # make reproducible"
   ]
  },
  {
   "cell_type": "code",
   "execution_count": 4,
   "metadata": {},
   "outputs": [
    {
     "name": "stdout",
     "output_type": "stream",
     "text": [
      "CPU times: user 40.2 s, sys: 10 s, total: 50.3 s\n",
      "Wall time: 50.3 s\n"
     ]
    }
   ],
   "source": [
    "%time xb1 = np.random.random((nb, d)).astype('float32')"
   ]
  },
  {
   "cell_type": "code",
   "execution_count": 5,
   "metadata": {},
   "outputs": [
    {
     "name": "stdout",
     "output_type": "stream",
     "text": [
      "CPU times: user 205 µs, sys: 49 µs, total: 254 µs\n",
      "Wall time: 145 µs\n"
     ]
    }
   ],
   "source": [
    "%time xq1 = np.random.random((nq, d)).astype('float32')"
   ]
  },
  {
   "cell_type": "code",
   "execution_count": 6,
   "metadata": {},
   "outputs": [
    {
     "name": "stdout",
     "output_type": "stream",
     "text": [
      "xb1.shape (1000000, 4096)\n",
      "xq1.shape (1, 4096)\n",
      "xb1[0] [0.19151945 0.62210876 0.43772775 ... 0.9750933  0.9089286  0.8868944 ]\n",
      "xb1[1] [0.9369065  0.95599407 0.38951334 ... 0.6071783  0.3248492  0.75957   ]\n"
     ]
    }
   ],
   "source": [
    "# check np shape\n",
    "print('xb1.shape', xb1.shape)\n",
    "print('xq1.shape', xq1.shape)\n",
    "print('xb1[0]', xb1[0])\n",
    "print('xb1[1]', xb1[1])\n"
   ]
  },
  {
   "cell_type": "code",
   "execution_count": 7,
   "metadata": {},
   "outputs": [
    {
     "name": "stdout",
     "output_type": "stream",
     "text": [
      "index.is_trained :  True\n"
     ]
    }
   ],
   "source": [
    "index = faiss.IndexFlatL2(d)   # build the index\n",
    "print('index.is_trained : ', index.is_trained)"
   ]
  },
  {
   "cell_type": "code",
   "execution_count": 8,
   "metadata": {},
   "outputs": [
    {
     "name": "stdout",
     "output_type": "stream",
     "text": [
      "CPU times: user 2.78 s, sys: 3.12 s, total: 5.9 s\n",
      "Wall time: 5.9 s\n",
      "index.ntotal :  1000000\n"
     ]
    }
   ],
   "source": [
    "%time index.add(xb1)                  # add vectors to the index\n",
    "print('index.ntotal : ', index.ntotal)"
   ]
  },
  {
   "cell_type": "code",
   "execution_count": 10,
   "metadata": {},
   "outputs": [
    {
     "name": "stdout",
     "output_type": "stream",
     "text": [
      "CPU times: user 26.4 s, sys: 474 ms, total: 26.9 s\n",
      "Wall time: 17.2 s\n"
     ]
    }
   ],
   "source": [
    "k = 100                          \n",
    "%time D, I = index.search(xb1[:10], k)"
   ]
  },
  {
   "cell_type": "code",
   "execution_count": 11,
   "metadata": {},
   "outputs": [
    {
     "name": "stdout",
     "output_type": "stream",
     "text": [
      "CPU times: user 26 s, sys: 573 ms, total: 26.6 s\n",
      "Wall time: 17 s\n"
     ]
    }
   ],
   "source": [
    "k = 1000                          \n",
    "%time D, I = index.search(xb1[:10], k)"
   ]
  },
  {
   "cell_type": "code",
   "execution_count": 13,
   "metadata": {},
   "outputs": [
    {
     "name": "stdout",
     "output_type": "stream",
     "text": [
      "CPU times: user 28.7 s, sys: 506 ms, total: 29.2 s\n",
      "Wall time: 19.6 s\n"
     ]
    }
   ],
   "source": [
    "k = 1000000                     \n",
    "%time D, I = index.search(xb1[:10], k)"
   ]
  },
  {
   "cell_type": "markdown",
   "metadata": {},
   "source": [
    "# consume total 32G memory - 1M"
   ]
  },
  {
   "cell_type": "code",
   "execution_count": null,
   "metadata": {},
   "outputs": [],
   "source": []
  },
  {
   "cell_type": "markdown",
   "metadata": {},
   "source": [
    "# 4096d - 1M dataset - IndexIVFFlat - test on CPU machine\n",
    "### https://github.com/facebookresearch/faiss/wiki/Faster-search"
   ]
  },
  {
   "cell_type": "code",
   "execution_count": 2,
   "metadata": {},
   "outputs": [],
   "source": [
    "# generate test np\n",
    "d = 4096                           # dimension\n",
    "nb = 1000000                      # database size\n",
    "nq = 1                     # nb of queries\n",
    "np.random.seed(1234)             # make reproducible"
   ]
  },
  {
   "cell_type": "code",
   "execution_count": 3,
   "metadata": {},
   "outputs": [
    {
     "name": "stdout",
     "output_type": "stream",
     "text": [
      "CPU times: user 40.5 s, sys: 9.94 s, total: 50.4 s\n",
      "Wall time: 50.4 s\n"
     ]
    }
   ],
   "source": [
    "%time xb2 = np.random.random((nb, d)).astype('float32')"
   ]
  },
  {
   "cell_type": "code",
   "execution_count": 4,
   "metadata": {},
   "outputs": [
    {
     "name": "stdout",
     "output_type": "stream",
     "text": [
      "CPU times: user 336 µs, sys: 80 µs, total: 416 µs\n",
      "Wall time: 230 µs\n"
     ]
    }
   ],
   "source": [
    "%time xq2 = np.random.random((nq, d)).astype('float32')"
   ]
  },
  {
   "cell_type": "code",
   "execution_count": 7,
   "metadata": {},
   "outputs": [
    {
     "name": "stdout",
     "output_type": "stream",
     "text": [
      "xb2.shape (1000000, 4096)\n",
      "xq2.shape (1, 4096)\n",
      "xb2[0] [0.19151945 0.62210876 0.43772775 ... 0.9750933  0.9089286  0.8868944 ]\n",
      "xb2[1] [0.9369065  0.95599407 0.38951334 ... 0.6071783  0.3248492  0.75957   ]\n"
     ]
    }
   ],
   "source": [
    "# check np shape\n",
    "print('xb2.shape', xb2.shape)\n",
    "print('xq2.shape', xq2.shape)\n",
    "print('xb2[0]', xb2[0])\n",
    "print('xb2[1]', xb2[1])"
   ]
  },
  {
   "cell_type": "code",
   "execution_count": 8,
   "metadata": {},
   "outputs": [
    {
     "name": "stdout",
     "output_type": "stream",
     "text": [
      "CPU times: user 85 µs, sys: 0 ns, total: 85 µs\n",
      "Wall time: 75.3 µs\n"
     ]
    }
   ],
   "source": [
    "nlist = 100\n",
    "%time quantizer = faiss.IndexFlatL2(d)  # the other index\n"
   ]
  },
  {
   "cell_type": "code",
   "execution_count": 9,
   "metadata": {},
   "outputs": [
    {
     "name": "stdout",
     "output_type": "stream",
     "text": [
      "CPU times: user 13.1 s, sys: 110 ms, total: 13.2 s\n",
      "Wall time: 9.13 s\n",
      "index.is_trained True\n"
     ]
    }
   ],
   "source": [
    "index = faiss.IndexIVFFlat(quantizer, d, nlist, faiss.METRIC_L2)\n",
    "       # here we specify METRIC_L2, by default it performs inner-product search\n",
    "%time index.train(xb2)\n",
    "print('index.is_trained', index.is_trained)\n"
   ]
  },
  {
   "cell_type": "code",
   "execution_count": 10,
   "metadata": {},
   "outputs": [
    {
     "name": "stdout",
     "output_type": "stream",
     "text": [
      "CPU times: user 25.1 s, sys: 7.47 s, total: 32.5 s\n",
      "Wall time: 18.2 s\n"
     ]
    }
   ],
   "source": [
    "%time index.add(xb2)                  # add may be a bit slower as well"
   ]
  },
  {
   "cell_type": "code",
   "execution_count": 11,
   "metadata": {},
   "outputs": [
    {
     "name": "stdout",
     "output_type": "stream",
     "text": [
      "CPU times: user 280 ms, sys: 12.9 ms, total: 292 ms\n",
      "Wall time: 49.2 ms\n",
      "[[ 17516 996792 704912 176368 954419 494699 496710 517952 607979 979484\n",
      "  105983 295458 449051 311091 526109 342930 195438 237684 582749 967920\n",
      "  992917 602159 889923 254086 839513 627050 334330 198850 351587 655281\n",
      "  343611 658278 176434 961115 884359  34328 440934 436925 273581 312648\n",
      "  282765 744637 209712 735236 660071 210883 481372 857491 386408 436200\n",
      "  472475 181153 639618 411730 570182 350001 635997  40831 417408 712217\n",
      "  441586 972743 716412 161942 246741  75285 803035 447512 220153 298677\n",
      "  203491 298138 836838  66162 581952 960145 590166 167672 171610 997327\n",
      "  513954 335598 962371 100995 858014 216834   2967 198443 595122 999550\n",
      "  961407 173950 133647 965664 851552 314198 713407 867221 250371 323723]]\n"
     ]
    }
   ],
   "source": [
    "k = 100\n",
    "%time D, I = index.search(xq2, k)     # actual search\n",
    "print(I[-5:])                  # neighbors of the 5 last queries"
   ]
  },
  {
   "cell_type": "code",
   "execution_count": 16,
   "metadata": {},
   "outputs": [
    {
     "name": "stdout",
     "output_type": "stream",
     "text": [
      "CPU times: user 1.27 s, sys: 34.3 ms, total: 1.31 s\n",
      "Wall time: 442 ms\n",
      "[[288749 715358  17516 ...     -1     -1     -1]]\n"
     ]
    }
   ],
   "source": [
    "k = 1000000\n",
    "%time D, I = index.search(xq2, k)     # actual search\n",
    "print(I[-5:])                  # neighbors of the 5 last queries"
   ]
  },
  {
   "cell_type": "code",
   "execution_count": 15,
   "metadata": {},
   "outputs": [
    {
     "name": "stdout",
     "output_type": "stream",
     "text": [
      "CPU times: user 1.18 s, sys: 53.3 ms, total: 1.23 s\n",
      "Wall time: 362 ms\n",
      "[[288749 715358  17516 586587  81632 996792 530640 774878 952097  94876\n",
      "  108618 308878 704912 924934 611590 230616 841005 245976 872831 780143\n",
      "  539491 284597 988863 591019 407840  86768 850327 669668  55910 173758\n",
      "  499498 176368 804002 823482 180233 311296 748047 856042 288396 657952\n",
      "  390758 954419 494699 553111 496710 559531 847603 603161 121768 864780\n",
      "  517952 216702 472374 607979 979484 424780 759982 575505 105983 295458\n",
      "  556660 219738 449051 858834 614005  76661 471826 281163  82897 311091\n",
      "  111533 522424 445932 526109 342930 254962 379530 994310 577652 462512\n",
      "   87598 365283 736914 482052 370448 917392 195438 445633 683551 496163\n",
      "   99154 237684  73447 112189 707413 582749 223062 552328 286381 776169]]\n"
     ]
    }
   ],
   "source": [
    "k = 100\n",
    "index.nprobe = 10              # default nprobe is 1, try a few more - getting slow\n",
    "%time D, I = index.search(xq2, k)\n",
    "print(I[-5:])                  # neighbors of the 5 last queries"
   ]
  },
  {
   "cell_type": "markdown",
   "metadata": {},
   "source": [
    "# 4096d - 1M dataset - IndexIVFPQ - test on CPU machine\n",
    "### https://github.com/facebookresearch/faiss/wiki/Lower-memory-footprint"
   ]
  },
  {
   "cell_type": "code",
   "execution_count": 2,
   "metadata": {},
   "outputs": [],
   "source": [
    "# generate test np\n",
    "d = 4096                           # dimension\n",
    "nb = 1000000                      # database size\n",
    "nq = 1                     # nb of queries\n",
    "np.random.seed(1234)             # make reproducible"
   ]
  },
  {
   "cell_type": "code",
   "execution_count": 3,
   "metadata": {},
   "outputs": [
    {
     "name": "stdout",
     "output_type": "stream",
     "text": [
      "CPU times: user 40.5 s, sys: 9.83 s, total: 50.4 s\n",
      "Wall time: 50.4 s\n"
     ]
    }
   ],
   "source": [
    "%time xb3 = np.random.random((nb, d)).astype('float32')"
   ]
  },
  {
   "cell_type": "code",
   "execution_count": 14,
   "metadata": {},
   "outputs": [
    {
     "name": "stdout",
     "output_type": "stream",
     "text": [
      "CPU times: user 592 µs, sys: 0 ns, total: 592 µs\n",
      "Wall time: 331 µs\n"
     ]
    }
   ],
   "source": [
    "%time xq3 = np.random.random((nq, d)).astype('float32')"
   ]
  },
  {
   "cell_type": "code",
   "execution_count": 15,
   "metadata": {},
   "outputs": [
    {
     "name": "stdout",
     "output_type": "stream",
     "text": [
      "xb3.shape (1000000, 4096)\n",
      "xq3.shape (1, 4096)\n",
      "xb3[0] [0.19151945 0.62210876 0.43772775 ... 0.9750933  0.9089286  0.8868944 ]\n",
      "xq3[0] [0.01002005 0.54112315 0.66451573 ... 0.6636337  0.47418234 0.8247013 ]\n"
     ]
    }
   ],
   "source": [
    "# check np shape\n",
    "print('xb3.shape', xb3.shape)\n",
    "print('xq3.shape', xq3.shape)\n",
    "print('xb3[0]', xb3[0])\n",
    "print('xq3[0]', xq3[0])"
   ]
  },
  {
   "cell_type": "code",
   "execution_count": 16,
   "metadata": {},
   "outputs": [
    {
     "name": "stdout",
     "output_type": "stream",
     "text": [
      "CPU times: user 48 µs, sys: 0 ns, total: 48 µs\n",
      "Wall time: 39.3 µs\n"
     ]
    }
   ],
   "source": [
    "nlist = 100\n",
    "m = 8    # number of subquantizers\n",
    "\n",
    "%time quantizer = faiss.IndexFlatL2(d)  # the other index\n"
   ]
  },
  {
   "cell_type": "code",
   "execution_count": 17,
   "metadata": {},
   "outputs": [
    {
     "name": "stdout",
     "output_type": "stream",
     "text": [
      "CPU times: user 1.41 ms, sys: 0 ns, total: 1.41 ms\n",
      "Wall time: 714 µs\n"
     ]
    }
   ],
   "source": [
    "%time index = faiss.IndexIVFPQ(quantizer, d, nlist, m, 8)  # 8 specifies that each sub-vector is encoded as 8 bits"
   ]
  },
  {
   "cell_type": "code",
   "execution_count": 18,
   "metadata": {},
   "outputs": [
    {
     "name": "stdout",
     "output_type": "stream",
     "text": [
      "CPU times: user 1min 22s, sys: 1.05 s, total: 1min 24s\n",
      "Wall time: 21.4 s\n"
     ]
    }
   ],
   "source": [
    "%time index.train(xb3)"
   ]
  },
  {
   "cell_type": "code",
   "execution_count": 23,
   "metadata": {},
   "outputs": [
    {
     "name": "stdout",
     "output_type": "stream",
     "text": [
      "CPU times: user 1min 27s, sys: 6.48 s, total: 1min 33s\n",
      "Wall time: 15.7 s\n"
     ]
    }
   ],
   "source": [
    "%time index.add(xb3)"
   ]
  },
  {
   "cell_type": "code",
   "execution_count": 24,
   "metadata": {},
   "outputs": [
    {
     "name": "stdout",
     "output_type": "stream",
     "text": [
      "CPU times: user 15.8 ms, sys: 0 ns, total: 15.8 ms\n",
      "Wall time: 2.69 ms\n",
      "[[950785 820669 326553 435721  65112 790912 252108 297277 950015 709121\n",
      "  135308 902144  44375 109113 237060 986685 651956 810994 565901 474236\n",
      "  393355 829021 535464 673586 422044 238157 226394 991735 938248 491356\n",
      "  530970 535864 241677 548135 657035 232535 715748 449902 469741 138512\n",
      "  749170 879483 955599 397868 889253 519623 922312 260403 589513 873843\n",
      "  527506 784739 621625  41708 342174  84243 141112 443282 156896 857979\n",
      "  217169 690689 587435 812108 362872 658326 564804 532177 681190 175824\n",
      "  233486 709392 235473  55291 489019 412045 236827 665792 659779 202736\n",
      "  997813 180261 570520 902677 369688  38802 845289 242955 651508 362905\n",
      "  689602 295005 151699 267795 834152 103529 722777 581416  64784 561154]]\n"
     ]
    }
   ],
   "source": [
    "k = 100\n",
    "%time D, I = index.search(xq3, k)     # actual search\n",
    "print(I[-5:])                  # neighbors of the 5 last queries"
   ]
  },
  {
   "cell_type": "code",
   "execution_count": 25,
   "metadata": {},
   "outputs": [
    {
     "name": "stdout",
     "output_type": "stream",
     "text": [
      "CPU times: user 486 ms, sys: 22.8 ms, total: 509 ms\n",
      "Wall time: 85 ms\n",
      "[[950785 820669 326553 ...     -1     -1     -1]]\n"
     ]
    }
   ],
   "source": [
    "k = 1000000\n",
    "%time D, I = index.search(xq3, k)     # actual search\n",
    "print(I[-5:])                  # neighbors of the 5 last queries"
   ]
  },
  {
   "cell_type": "code",
   "execution_count": 26,
   "metadata": {},
   "outputs": [
    {
     "name": "stdout",
     "output_type": "stream",
     "text": [
      "CPU times: user 10.9 ms, sys: 3.44 ms, total: 14.4 ms\n",
      "Wall time: 2.45 ms\n",
      "[[950785 820669 326553 435721  65112 790912 252108 297277 950015 709121\n",
      "  135308 902144  44375 109113 237060 986685 651956 810994 565901 474236\n",
      "  393355 829021 535464 673586 422044 238157 226394 991735 938248 491356\n",
      "  530970 535864 241677 548135 657035 232535 715748 449902 469741 138512\n",
      "  749170 879483 955599 397868 889253 519623 922312 260403 589513 873843\n",
      "  527506 784739 621625  41708 342174  84243 141112 443282 156896 857979\n",
      "  217169 690689 587435 812108 362872 658326 564804 532177 681190 175824\n",
      "  233486 709392 235473  55291 489019 412045 236827 665792 659779 202736\n",
      "  997813 180261 570520 902677 369688  38802 845289 242955 651508 362905\n",
      "  689602 295005 151699 267795 834152 103529 722777 581416  64784 561154]]\n"
     ]
    }
   ],
   "source": [
    "k = 100\n",
    "index.nprobe = 10              # default nprobe is 1, try a few more - getting slow\n",
    "%time D, I = index.search(xq3, k)\n",
    "print(I[-5:])                  # neighbors of the 5 last queries"
   ]
  },
  {
   "cell_type": "code",
   "execution_count": null,
   "metadata": {},
   "outputs": [],
   "source": []
  },
  {
   "cell_type": "markdown",
   "metadata": {},
   "source": [
    "# 4096d - 4M dataset - IndexIVFPQ - test on CPU machine"
   ]
  },
  {
   "cell_type": "code",
   "execution_count": 2,
   "metadata": {},
   "outputs": [],
   "source": [
    "# generate test np\n",
    "d = 4096                           # dimension\n",
    "nb = 4000000                      # database size\n",
    "nq = 1                     # nb of queries\n",
    "np.random.seed(1234)             # make reproducible"
   ]
  },
  {
   "cell_type": "code",
   "execution_count": 3,
   "metadata": {},
   "outputs": [
    {
     "name": "stdout",
     "output_type": "stream",
     "text": [
      "CPU times: user 2min 46s, sys: 53.3 s, total: 3min 39s\n",
      "Wall time: 3min 39s\n"
     ]
    }
   ],
   "source": [
    "%time xb1 = np.random.random((nb, d)).astype('float32')"
   ]
  },
  {
   "cell_type": "code",
   "execution_count": 4,
   "metadata": {},
   "outputs": [
    {
     "name": "stdout",
     "output_type": "stream",
     "text": [
      "CPU times: user 510 µs, sys: 163 µs, total: 673 µs\n",
      "Wall time: 476 µs\n"
     ]
    }
   ],
   "source": [
    "%time xq1 = np.random.random((nq, d)).astype('float32')"
   ]
  },
  {
   "cell_type": "code",
   "execution_count": 5,
   "metadata": {},
   "outputs": [
    {
     "name": "stdout",
     "output_type": "stream",
     "text": [
      "xb1.shape (4000000, 4096)\n",
      "xq1.shape (1, 4096)\n",
      "xb1[0] [0.19151945 0.62210876 0.43772775 ... 0.9750933  0.9089286  0.8868944 ]\n",
      "xb1[1] [0.9369065  0.95599407 0.38951334 ... 0.6071783  0.3248492  0.75957   ]\n"
     ]
    }
   ],
   "source": [
    "# check np shape\n",
    "print('xb1.shape', xb1.shape)\n",
    "print('xq1.shape', xq1.shape)\n",
    "print('xb1[0]', xb1[0])\n",
    "print('xb1[1]', xb1[1])\n"
   ]
  },
  {
   "cell_type": "code",
   "execution_count": 6,
   "metadata": {},
   "outputs": [
    {
     "name": "stdout",
     "output_type": "stream",
     "text": [
      "index.is_trained :  True\n"
     ]
    }
   ],
   "source": [
    "%time index = faiss.IndexFlatL2(d)   # build the index\n",
    "print('index.is_trained : ', index.is_trained)"
   ]
  },
  {
   "cell_type": "code",
   "execution_count": 7,
   "metadata": {},
   "outputs": [
    {
     "name": "stdout",
     "output_type": "stream",
     "text": [
      "CPU times: user 12.3 s, sys: 12.5 s, total: 24.8 s\n",
      "Wall time: 24.8 s\n",
      "index.ntotal :  4000000\n"
     ]
    }
   ],
   "source": [
    "%time index.add(xb1)                  # add vectors to the index\n",
    "print('index.ntotal : ', index.ntotal)"
   ]
  },
  {
   "cell_type": "code",
   "execution_count": 8,
   "metadata": {},
   "outputs": [
    {
     "name": "stdout",
     "output_type": "stream",
     "text": [
      "CPU times: user 1min 49s, sys: 2.59 s, total: 1min 51s\n",
      "Wall time: 1min 8s\n"
     ]
    }
   ],
   "source": [
    "k = 100                          \n",
    "%time D, I = index.search(xb1[:10], k)"
   ]
  },
  {
   "cell_type": "code",
   "execution_count": 9,
   "metadata": {},
   "outputs": [
    {
     "name": "stdout",
     "output_type": "stream",
     "text": [
      "CPU times: user 1min 48s, sys: 2.55 s, total: 1min 51s\n",
      "Wall time: 1min 8s\n"
     ]
    }
   ],
   "source": [
    "k = 1000                          \n",
    "%time D, I = index.search(xb1[:10], k)"
   ]
  },
  {
   "cell_type": "code",
   "execution_count": 10,
   "metadata": {},
   "outputs": [
    {
     "name": "stdout",
     "output_type": "stream",
     "text": [
      "CPU times: user 1min 57s, sys: 2.65 s, total: 2min\n",
      "Wall time: 1min 19s\n"
     ]
    }
   ],
   "source": [
    "k = 4000000                     \n",
    "%time D, I = index.search(xb1[:10], k)"
   ]
  },
  {
   "cell_type": "markdown",
   "metadata": {},
   "source": [
    "# consume total 124G memory - 4M"
   ]
  },
  {
   "cell_type": "code",
   "execution_count": null,
   "metadata": {},
   "outputs": [],
   "source": []
  },
  {
   "cell_type": "markdown",
   "metadata": {},
   "source": [
    "# 4096d - 4M dataset - IndexIVFFlat - test on CPU machine"
   ]
  },
  {
   "cell_type": "code",
   "execution_count": 12,
   "metadata": {},
   "outputs": [],
   "source": [
    "index = None"
   ]
  },
  {
   "cell_type": "code",
   "execution_count": 13,
   "metadata": {},
   "outputs": [
    {
     "name": "stdout",
     "output_type": "stream",
     "text": [
      "CPU times: user 94 µs, sys: 0 ns, total: 94 µs\n",
      "Wall time: 90.4 µs\n"
     ]
    }
   ],
   "source": [
    "nlist = 100\n",
    "%time quantizer = faiss.IndexFlatL2(d)  # the other index"
   ]
  },
  {
   "cell_type": "code",
   "execution_count": 14,
   "metadata": {},
   "outputs": [
    {
     "name": "stdout",
     "output_type": "stream",
     "text": [
      "CPU times: user 1min 1s, sys: 55.6 s, total: 1min 57s\n",
      "Wall time: 1min 40s\n",
      "index.is_trained True\n"
     ]
    }
   ],
   "source": [
    "index = faiss.IndexIVFFlat(quantizer, d, nlist, faiss.METRIC_L2)\n",
    "       # here we specify METRIC_L2, by default it performs inner-product search\n",
    "%time index.train(xb1)\n",
    "print('index.is_trained', index.is_trained)"
   ]
  },
  {
   "cell_type": "code",
   "execution_count": 15,
   "metadata": {},
   "outputs": [
    {
     "name": "stdout",
     "output_type": "stream",
     "text": [
      "CPU times: user 2min 31s, sys: 2min 2s, total: 4min 34s\n",
      "Wall time: 1min 31s\n"
     ]
    }
   ],
   "source": [
    "%time index.add(xb1)                  # add may be a bit slower as well"
   ]
  },
  {
   "cell_type": "code",
   "execution_count": 19,
   "metadata": {},
   "outputs": [
    {
     "name": "stdout",
     "output_type": "stream",
     "text": [
      "CPU times: user 5.46 s, sys: 304 ms, total: 5.76 s\n",
      "Wall time: 2.23 s\n",
      "[[3084379  635044 2664931 3112684 1710949  893567 1094423  372070 2866383\n",
      "  1202304  209481 1398511 3844585 2981741  287530 2470413  611851  392155\n",
      "  2906991    6424 2589890 3048104  519337 1704052 2548378 2116930 1004419\n",
      "  1468472  868104 1682308 3918233  580660  852756 2422099 1210681 3133462\n",
      "  2971871 3375968 2295913 1952157 1156852 1868846 1077897  315169 3739974\n",
      "  3036041 2734053 2224222 1203557 2494437 1352655 2319937 1413803 2457798\n",
      "  3149634 3024316 1316542 1615482 1100538 3463449 2627077 1513193 2508481\n",
      "  3496922 3515392  488576  973571 2608497  972546 3084535 1205286  223328\n",
      "   847236  973642  839132 1544645  926482 3421090 3681122 1937255 2823441\n",
      "  3459752 3229873 3659407 3269189 1290480 1233174 3245192  906425 1216803\n",
      "  2200457 2676142 2218092 3614159 1617936 2651628  876088 3199565 1598095\n",
      "  2422860]]\n"
     ]
    }
   ],
   "source": [
    "k = 100\n",
    "%time D, I = index.search(xq1, k)     # actual search\n",
    "print(I[-5:])                  # neighbors of the 5 last queries"
   ]
  },
  {
   "cell_type": "code",
   "execution_count": 20,
   "metadata": {},
   "outputs": [
    {
     "name": "stdout",
     "output_type": "stream",
     "text": [
      "CPU times: user 5.39 s, sys: 202 ms, total: 5.6 s\n",
      "Wall time: 2.6 s\n",
      "[[3084379  635044 2664931 ...      -1      -1      -1]]\n"
     ]
    }
   ],
   "source": [
    "k = 4000000\n",
    "%time D, I = index.search(xq1, k)     # actual search\n",
    "print(I[-5:])                  # neighbors of the 5 last queries"
   ]
  },
  {
   "cell_type": "code",
   "execution_count": 21,
   "metadata": {},
   "outputs": [
    {
     "name": "stdout",
     "output_type": "stream",
     "text": [
      "CPU times: user 5.46 s, sys: 248 ms, total: 5.7 s\n",
      "Wall time: 2.12 s\n",
      "[[3084379  635044 2664931 3112684 1710949  893567 1094423  372070 2866383\n",
      "  1202304  209481 1398511 3844585 2981741  287530 2470413  611851  392155\n",
      "  2906991    6424 2589890 3048104  519337 1704052 2548378 2116930 1004419\n",
      "  1468472  868104 1682308 3918233  580660  852756 2422099 1210681 3133462\n",
      "  2971871 3375968 2295913 1952157 1156852 1868846 1077897  315169 3739974\n",
      "  3036041 2734053 2224222 1203557 2494437 1352655 2319937 1413803 2457798\n",
      "  3149634 3024316 1316542 1615482 1100538 3463449 2627077 1513193 2508481\n",
      "  3496922 3515392  488576  973571 2608497  972546 3084535 1205286  223328\n",
      "   847236  973642  839132 1544645  926482 3421090 3681122 1937255 2823441\n",
      "  3459752 3229873 3659407 3269189 1290480 1233174 3245192  906425 1216803\n",
      "  2200457 2676142 2218092 3614159 1617936 2651628  876088 3199565 1598095\n",
      "  2422860]]\n"
     ]
    }
   ],
   "source": [
    "k = 100\n",
    "index.nprobe = 10              # default nprobe is 1, try a few more - getting slow\n",
    "%time D, I = index.search(xq1, k)\n",
    "print(I[-5:])                  # neighbors of the 5 last queries"
   ]
  },
  {
   "cell_type": "code",
   "execution_count": null,
   "metadata": {},
   "outputs": [],
   "source": []
  },
  {
   "cell_type": "markdown",
   "metadata": {},
   "source": [
    "# 4096d - 4M dataset - IndexIVFPQ - test on CPU machine"
   ]
  },
  {
   "cell_type": "code",
   "execution_count": 22,
   "metadata": {},
   "outputs": [],
   "source": [
    "index = None"
   ]
  },
  {
   "cell_type": "code",
   "execution_count": 23,
   "metadata": {},
   "outputs": [
    {
     "name": "stdout",
     "output_type": "stream",
     "text": [
      "CPU times: user 0 ns, sys: 77 µs, total: 77 µs\n",
      "Wall time: 70.6 µs\n"
     ]
    }
   ],
   "source": [
    "nlist = 100\n",
    "m = 8    # number of subquantizers\n",
    "\n",
    "%time quantizer = faiss.IndexFlatL2(d)  # the other index"
   ]
  },
  {
   "cell_type": "code",
   "execution_count": 24,
   "metadata": {},
   "outputs": [
    {
     "name": "stdout",
     "output_type": "stream",
     "text": [
      "CPU times: user 2.24 ms, sys: 336 µs, total: 2.57 ms\n",
      "Wall time: 48.9 ms\n"
     ]
    }
   ],
   "source": [
    "%time index = faiss.IndexIVFPQ(quantizer, d, nlist, m, 8)  # 8 specifies that each sub-vector is encoded as 8 bits"
   ]
  },
  {
   "cell_type": "code",
   "execution_count": 25,
   "metadata": {},
   "outputs": [
    {
     "name": "stdout",
     "output_type": "stream",
     "text": [
      "CPU times: user 3min 7s, sys: 10.1 s, total: 3min 17s\n",
      "Wall time: 53 s\n"
     ]
    }
   ],
   "source": [
    "%time index.train(xb1)"
   ]
  },
  {
   "cell_type": "code",
   "execution_count": 26,
   "metadata": {},
   "outputs": [
    {
     "name": "stdout",
     "output_type": "stream",
     "text": [
      "CPU times: user 15min 36s, sys: 1min 53s, total: 17min 30s\n",
      "Wall time: 45.6 s\n"
     ]
    }
   ],
   "source": [
    "%time index.add(xb1)"
   ]
  },
  {
   "cell_type": "code",
   "execution_count": 27,
   "metadata": {},
   "outputs": [
    {
     "name": "stdout",
     "output_type": "stream",
     "text": [
      "CPU times: user 25.4 ms, sys: 1.51 ms, total: 27 ms\n",
      "Wall time: 1.6 ms\n",
      "[[ 127409 2342266 1037896 1521163 1393329 2439532 2299464 1534446 3372148\n",
      "  1970457 3978389  778330 1504218  835479 3486445  987769 2475158  893435\n",
      "  2697521 3359094 3776263 2796849 2581001 2788703 2967623 1228360 1905467\n",
      "   291850 2847726  368892 1988905 3472724 1638806 1245538 2913663 3790735\n",
      "  2422512 3510363 1697489 3606340 3857401 3509099 3834708  742257  184484\n",
      "  1297577 1567648 1826241 3065655 2250837 1544324 3558343 2780172  874134\n",
      "  3701899  395462 3215684 1672258 3456573 2421592 3253209  406453 1027972\n",
      "  2506054 3681487 3124800 3129955 1126289 2403071 2540322 2820147 3152535\n",
      "  3316044 1266132 1412230 3184104  340067 3590882 2266437 3716270  146135\n",
      "   725439  317242 1751432 1502555 2980895 2908823  969731  382774 3439147\n",
      "  3040912  132119  356195 3322525 1745964 2531157  273240 1843714 3361213\n",
      "  2204547]]\n"
     ]
    }
   ],
   "source": [
    "k = 100\n",
    "%time D, I = index.search(xq1, k)     # actual search\n",
    "print(I[-5:])                  # neighbors of the 5 last queries"
   ]
  },
  {
   "cell_type": "code",
   "execution_count": 28,
   "metadata": {},
   "outputs": [
    {
     "name": "stdout",
     "output_type": "stream",
     "text": [
      "CPU times: user 3.82 s, sys: 162 ms, total: 3.98 s\n",
      "Wall time: 176 ms\n",
      "[[ 127409 2342266 1037896 ...      -1      -1      -1]]\n"
     ]
    }
   ],
   "source": [
    "k = 4000000\n",
    "%time D, I = index.search(xq1, k)     # actual search\n",
    "print(I[-5:])                  # neighbors of the 5 last queries"
   ]
  },
  {
   "cell_type": "code",
   "execution_count": 29,
   "metadata": {},
   "outputs": [
    {
     "name": "stdout",
     "output_type": "stream",
     "text": [
      "CPU times: user 453 ms, sys: 25 ms, total: 478 ms\n",
      "Wall time: 20.1 ms\n",
      "[[ 829986  606382 1238934  127409 3887834 3281491 3338736 3247951 3881079\n",
      "  2738662 3656462 2342266 1395944 1753345 3138655 1037896 1156135 3439174\n",
      "  2881988 2468678 1769993 3262899   53189 2947183 3713404 1521163 1393329\n",
      "   253935 1694870 3184420 3335537 2214994  221952  362559 2128623  523339\n",
      "  1105613  731038 2372959 3427204  950106 1057591 3781549 2439532 2299464\n",
      "  1060821 1534446 1744762 1796497 2084371 3865922  735461 3368827 3122146\n",
      "  1070554 3682704  496433 1198678 1801430 2624039  645067 3372148 1095576\n",
      "   971787 1999256  770126 3390214 3329901 3142749  685005  199908  687829\n",
      "   520091  377197 1248020 2520758 2193186 2824952 2625454 2056869  155162\n",
      "  1659685 1970457 1879888 1491207 2124764  634829 3375757 1989306 2480441\n",
      "  2369585 2610616 1597392  410207 3246157 3196901 3978389  204538 2199991\n",
      "  2274433]]\n"
     ]
    }
   ],
   "source": [
    "k = 100\n",
    "index.nprobe = 10              # default nprobe is 1, try a few more - getting slow\n",
    "%time D, I = index.search(xq1, k)\n",
    "print(I[-5:])                  # neighbors of the 5 last queries"
   ]
  },
  {
   "cell_type": "markdown",
   "metadata": {},
   "source": [
    "# consume total 63G memory - 4M"
   ]
  },
  {
   "cell_type": "code",
   "execution_count": null,
   "metadata": {},
   "outputs": [],
   "source": []
  },
  {
   "cell_type": "code",
   "execution_count": null,
   "metadata": {},
   "outputs": [],
   "source": []
  }
 ],
 "metadata": {
  "kernelspec": {
   "display_name": "Python 3",
   "language": "python",
   "name": "python3"
  },
  "language_info": {
   "codemirror_mode": {
    "name": "ipython",
    "version": 3
   },
   "file_extension": ".py",
   "mimetype": "text/x-python",
   "name": "python",
   "nbconvert_exporter": "python",
   "pygments_lexer": "ipython3",
   "version": "3.6.8"
  }
 },
 "nbformat": 4,
 "nbformat_minor": 2
}
